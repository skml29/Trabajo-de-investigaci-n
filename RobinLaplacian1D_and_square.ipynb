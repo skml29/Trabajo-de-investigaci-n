{
  "cells": [
    {
      "cell_type": "markdown",
      "metadata": {
        "id": "view-in-github",
        "colab_type": "text"
      },
      "source": [
        "<a href=\"https://colab.research.google.com/github/skml29/Trabajo-de-investigaci-n/blob/skml29-codes/RobinLaplacian1D_and_square.ipynb\" target=\"_parent\"><img src=\"https://colab.research.google.com/assets/colab-badge.svg\" alt=\"Open In Colab\"/></a>"
      ]
    },
    {
      "cell_type": "code",
      "execution_count": null,
      "id": "d08ed336",
      "metadata": {
        "id": "d08ed336"
      },
      "outputs": [],
      "source": [
        ""
      ]
    },
    {
      "cell_type": "markdown",
      "id": "cd01db12",
      "metadata": {
        "id": "cd01db12"
      },
      "source": [
        "# Eigenvalues of the 1D Robin Laplacian \n",
        "\n",
        "## The scaled problem with $\\alpha <0$\n",
        "\n",
        "$$\n",
        "\\frac{d^2v}{dt^2} + R^2\\lambda\\, v =0, \\quad t\\in (-1,1)\n",
        "$$\n",
        "\n",
        "$$\n",
        "v'(1) - \\beta\\, v(1) = 0, \\quad v'(-1)+  \\beta\\, v(-1) = 0. \n",
        "$$\n",
        "\n",
        "Here $\\beta = -\\alpha\\, R$"
      ]
    },
    {
      "cell_type": "code",
      "execution_count": null,
      "id": "b7eda2e8",
      "metadata": {
        "id": "b7eda2e8"
      },
      "outputs": [],
      "source": [
        "import numpy as np\n",
        "import matplotlib.pyplot as plt\n",
        "from scipy.optimize import fsolve"
      ]
    },
    {
      "cell_type": "code",
      "execution_count": null,
      "id": "1d65ae1a",
      "metadata": {
        "id": "1d65ae1a"
      },
      "outputs": [],
      "source": [
        "pi = np.pi\n",
        "beta_max = pi"
      ]
    },
    {
      "cell_type": "markdown",
      "id": "2257b5d6",
      "metadata": {
        "id": "2257b5d6"
      },
      "source": [
        "## Negative scaled eigenvalues\n",
        "\n",
        "Setting $\\omega^2 = -R^2\\,\\lambda$,  the RL problem reduces to its scaled version: \n",
        "\n",
        "$$\n",
        "\\frac{d^2v}{dt^2} - \\omega^2\\, v =0, \\quad t\\in (-1,1)\n",
        "$$\n",
        "\n",
        "$$\n",
        "v'(1) - \\beta\\, v(1) = 0, \\quad v'(-1)+  \\beta\\, v(-1) = 0. \n",
        "$$\n",
        "\n",
        "The scaled igenvalues $\\omega$ satisfy\n",
        "\n",
        "$$\n",
        "\\omega\\, \\sinh{\\omega} - \\beta\\,  \\cosh{\\omega} = 0 \\quad \\text{ or} \\quad \\omega\\, \\cosh{\\omega} - \\beta\\,  \\sinh{\\omega} = 0. \n",
        "$$\n",
        "\n",
        "For a given $0<\\beta<1$, there exists exactly one scaled eigenvalue $sc_1(\\beta)$ whereas for $1<\\beta$ there exists an aditional scaled eigenvalue $sc_2(\\beta)$\n"
      ]
    },
    {
      "cell_type": "code",
      "execution_count": null,
      "id": "bdb7e72e",
      "metadata": {
        "id": "bdb7e72e"
      },
      "outputs": [],
      "source": [
        "def scaled1(b):\n",
        "    b0 = b\n",
        "    val = fsolve(lambda w: w- b*np.cosh(w)/np.sinh(w), [b0])[0]  \n",
        "    return ((val)**2)"
      ]
    },
    {
      "cell_type": "code",
      "execution_count": null,
      "id": "e64e0267",
      "metadata": {
        "id": "e64e0267"
      },
      "outputs": [],
      "source": [
        "def scaled2(b):\n",
        "    b0 = b\n",
        "    val = fsolve(lambda w: w- b*np.tanh(w), [b0])[0] \n",
        "    return ((val)**2)"
      ]
    },
    {
      "cell_type": "code",
      "execution_count": null,
      "id": "2bfa4666",
      "metadata": {
        "id": "2bfa4666"
      },
      "outputs": [],
      "source": [
        "beta1 = np.arange(0.001, beta_max, 0.1 )\n",
        "beta2 = np.arange(1.001, beta_max, 0.1)\n",
        "s1 = [scaled1(b) for b in beta1]\n",
        "s2 = [scaled2(b) for b in beta2]"
      ]
    },
    {
      "cell_type": "code",
      "execution_count": null,
      "id": "370d2297",
      "metadata": {
        "id": "370d2297"
      },
      "outputs": [],
      "source": [
        "from scipy.interpolate import interp1d\n",
        "sc1 = interp1d(beta1, s1, kind='cubic')\n",
        "sc2 = interp1d(beta2, s2, kind='cubic')"
      ]
    },
    {
      "cell_type": "code",
      "execution_count": null,
      "id": "f6b13f74",
      "metadata": {
        "id": "f6b13f74",
        "outputId": "365b61f1-ff2e-430d-dc2e-88dc0b55be3e",
        "colab": {
          "base_uri": "https://localhost:8080/"
        }
      },
      "outputs": [
        {
          "output_type": "execute_result",
          "data": {
            "text/plain": [
              "1.5796113452330423"
            ]
          },
          "metadata": {},
          "execution_count": 7
        }
      ],
      "source": [
        "sc1(0.7*0.5)/0.25"
      ]
    },
    {
      "cell_type": "code",
      "execution_count": null,
      "id": "71106505",
      "metadata": {
        "id": "71106505",
        "outputId": "30fc6200-eb58-44a4-eb9f-8cf515dfd728",
        "colab": {
          "base_uri": "https://localhost:8080/",
          "height": 299
        }
      },
      "outputs": [
        {
          "output_type": "display_data",
          "data": {
            "text/plain": [
              "<Figure size 432x288 with 1 Axes>"
            ],
            "image/png": "[encoded data removed]"
          },
          "metadata": {
            "needs_background": "light"
          }
        }
      ],
      "source": [
        "fig, ax = plt.subplots()\n",
        "ax.plot(beta1, sc1(beta1),  linewidth=3, color = 'k',\\\n",
        "        label='$sc_1(\\omega)$')\n",
        "ax.plot(beta2, sc2(beta2),  linewidth=3, color = 'orange', \\\n",
        "       label='$sc_2(\\omega)$')\n",
        "ax.set(xlabel=r'$\\beta$', ylabel=r'$ sc_1(\\beta),\\, sc_2(\\beta)$ ',\n",
        "       title=r'Scaled eigenvalues ')\n",
        "ax.legend(loc='upper left', shadow=True, fontsize='x-large')\n",
        "plt.show()"
      ]
    },
    {
      "cell_type": "markdown",
      "id": "2cd83b81",
      "metadata": {
        "id": "2cd83b81"
      },
      "source": [
        "The negative eigenvalues are easily obtained from the scaled eigenvalues as follows:  \n",
        "\n",
        "-- For $R$ fixed: \n",
        "\n",
        "* $\\lambda_f(R, \\alpha) = -\\frac{sc_1(\\beta)}{R^2}$\n",
        "\n",
        "* $\\lambda_s(R, \\alpha) = -\\frac{sc_2(\\beta)}{R^2}$"
      ]
    },
    {
      "cell_type": "markdown",
      "id": "e2c26c66",
      "metadata": {
        "id": "e2c26c66"
      },
      "source": [
        "## Positive scaled eigenvalues\n",
        "\n",
        "Setting $\\omega^2 = R^2\\,\\lambda$,  the RL problem reduces to its scaled version: \n",
        "\n",
        "$$\n",
        "\\frac{d^2v}{dt^2} + \\omega^2\\, v =0, \\quad t\\in (-1,1)\n",
        "$$\n",
        "\n",
        "$$\n",
        "v'(1) - \\beta\\, v(1) = 0, \\quad v'(-1)+  \\beta\\, v(-1) = 0. \n",
        "$$\n",
        "\n",
        "The scaled positive igenvalues $\\omega$ satisfy\n",
        "\n",
        "$$\n",
        "\\omega\\, \\sin{\\omega} + \\beta\\,  \\cos{\\omega} = 0 \\quad \\text{ or} \\quad \\omega\\, \\cos{\\omega} - \\beta\\,  \\sin{\\omega} = 0. \n",
        "$$\n",
        "\n",
        "For a given $0<\\beta$, there are two discrete sets of positive scaled eigenvalues. Each set is infinit but we choose the first 3 elements of each one.  \n"
      ]
    },
    {
      "cell_type": "code",
      "execution_count": null,
      "id": "9fc64cbb",
      "metadata": {
        "id": "9fc64cbb"
      },
      "outputs": [],
      "source": [
        "def pos1_scaled(b):\n",
        "    step, nmax = pi, 4\n",
        "    b0, ps = 3*pi/4, []\n",
        "    for n in range(nmax):\n",
        "        val = fsolve(lambda w: w*np.sin(w)+ b*np.cos(w), [b0])[0] \n",
        "        ps.append((val)**2) \n",
        "        b0 = val + step\n",
        "    return (np.array(ps))"
      ]
    },
    {
      "cell_type": "code",
      "execution_count": null,
      "id": "9f87d3a9",
      "metadata": {
        "id": "9f87d3a9"
      },
      "outputs": [],
      "source": [
        "def pos2_scaled(b):\n",
        "    step, nmax = pi, 4\n",
        "    b0, ps = pi/2-b, []\n",
        "    if b>1: b0 = pi +pi/6\n",
        "    for n in range(nmax):\n",
        "        val = fsolve(lambda w: w*np.cos(w)- b*np.sin(w), [b0])[0] \n",
        "        ps.append((val)**2) \n",
        "        b0 = val + step\n",
        "    return (np.array(ps))"
      ]
    },
    {
      "cell_type": "code",
      "execution_count": null,
      "id": "c193998e",
      "metadata": {
        "id": "c193998e",
        "colab": {
          "base_uri": "https://localhost:8080/"
        },
        "outputId": "9d746cf8-e353-4d5a-ba0d-680f490edb7f"
      },
      "outputs": [
        {
          "output_type": "execute_result",
          "data": {
            "text/plain": [
              "(array([  3.33413724,  28.79881167,  76.56318607, 144.95518837]),\n",
              " array([ 13.09510199,  50.03906066, 108.22851775, 186.69734002]))"
            ]
          },
          "metadata": {},
          "execution_count": 11
        }
      ],
      "source": [
        "b = 7\n",
        "(pos1_scaled(b), pos2_scaled(b))"
      ]
    },
    {
      "cell_type": "code",
      "execution_count": null,
      "id": "e793c930",
      "metadata": {
        "id": "e793c930"
      },
      "outputs": [],
      "source": [
        "#fst_s = lambda b: np.sort(np.append(pos1_scaled(b),pos2_scaled(b)))[0]\n",
        "bb = np.arange(1/100, 1.0, 0.05)\n",
        "p2 = [pos2_scaled(b)[0] for b in bb]\n",
        "p1 = [pos1_scaled(b)[0] for b in bb]\n",
        "n1 = [scaled1(b) for b in bb ]\n"
      ]
    },
    {
      "cell_type": "code",
      "execution_count": null,
      "id": "24ff3566",
      "metadata": {
        "id": "24ff3566"
      },
      "outputs": [],
      "source": [
        "bb = np.arange(1+1/100, 3.5, 0.05)\n",
        "p2 = [pos2_scaled(b)[0] for b in bb]\n",
        "p1 = [pos1_scaled(b)[0] for b in bb]\n",
        "n1 = [scaled1(b) for b in bb ]\n",
        "n2 = [scaled2(b) for b in bb ]"
      ]
    },
    {
      "cell_type": "code",
      "execution_count": null,
      "id": "4ab2c73a",
      "metadata": {
        "id": "4ab2c73a",
        "colab": {
          "base_uri": "https://localhost:8080/",
          "height": 283
        },
        "outputId": "dfd04c85-6c04-46e3-fdff-ae2462a66d19"
      },
      "outputs": [
        {
          "output_type": "display_data",
          "data": {
            "text/plain": [
              "<Figure size 432x288 with 1 Axes>"
            ],
            "image/png": "[encoded data removed]"
          },
          "metadata": {
            "needs_background": "light"
          }
        }
      ],
      "source": [
        "fig, ax = plt.subplots()\n",
        "ax.plot(bb, p1,color = 'b', label=r'$p_1(\\beta)$') \n",
        "ax.plot(bb, p2,color = 'r', label=r'$p_2(\\beta)$')\n",
        "ax.plot(bb, n1, color = 'k',label =r'$n_1(\\beta)$') \n",
        "ax.plot(bb, n2, color = 'orange', \\\n",
        "        label =r'$n_2(\\beta)$')\n",
        "ax.set(xlabel=r'$\\beta$', ylabel=r'', \\\n",
        "       title='')\n",
        "ax.legend(loc='center left', shadow=True)\n",
        "plt.show()"
      ]
    },
    {
      "cell_type": "code",
      "execution_count": null,
      "id": "9793a7fa",
      "metadata": {
        "id": "9793a7fa"
      },
      "outputs": [],
      "source": [
        ""
      ]
    }
  ],
  "metadata": {
    "kernelspec": {
      "display_name": "Python 3 (ipykernel)",
      "language": "python",
      "name": "python3"
    },
    "language_info": {
      "codemirror_mode": {
        "name": "ipython",
        "version": 3
      },
      "file_extension": ".py",
      "mimetype": "text/x-python",
      "name": "python",
      "nbconvert_exporter": "python",
      "pygments_lexer": "ipython3",
      "version": "3.9.7"
    },
    "colab": {
      "name": "RobinLaplacian1D and square.ipynb",
      "provenance": [],
      "collapsed_sections": [],
      "include_colab_link": true
    }
  },
  "nbformat": 4,
  "nbformat_minor": 5
}